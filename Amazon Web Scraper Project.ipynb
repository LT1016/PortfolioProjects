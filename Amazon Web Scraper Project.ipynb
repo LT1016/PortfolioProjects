{
 "cells": [
  {
   "cell_type": "code",
   "execution_count": 7,
   "id": "82b71a9b",
   "metadata": {},
   "outputs": [],
   "source": [
    "# import libraries\n",
    "from bs4 import BeautifulSoup\n",
    "import requests\n",
    "import time\n",
    "import datetime\n",
    "\n",
    "import smtplib"
   ]
  },
  {
   "cell_type": "code",
   "execution_count": 86,
   "id": "624eb179",
   "metadata": {},
   "outputs": [
    {
     "name": "stdout",
     "output_type": "stream",
     "text": [
      "\n",
      "\n",
      "\n",
      "\n",
      "\n",
      "            Weber Go-Anywhere Charcoal Black BBQ - Portable BBQ Grill for Outdoor Cooking, Camping, Backyard, Deck, Beach - Compact, Versatile, Portable Barbeque\n",
      "           \n",
      "\n",
      "\n",
      "\n",
      "\n",
      "\n",
      "\n",
      "\n",
      "\n",
      "\n",
      "\n",
      "\n",
      "                        $139.95\n",
      "                       \n",
      "\n",
      "\n",
      "                         $\n",
      "                        \n",
      "\n",
      "                         139\n",
      "                         \n",
      "                          .\n",
      "                         \n",
      "\n",
      "\n",
      "                         95\n",
      "                        \n",
      "\n",
      "\n",
      "\n",
      "\n",
      "\n",
      "\n",
      "\n",
      "\n",
      "\n",
      "\n",
      "\n",
      "\n",
      "                4.6 out of 5 stars\n",
      "               \n",
      "\n",
      "\n",
      "\n",
      "\n",
      "\n",
      "\n",
      "\n",
      "\n",
      "\n",
      "             5 ratings\n",
      "            \n"
     ]
    }
   ],
   "source": [
    "# connect to website\n",
    "URL = 'https://www.amazon.com.au/Weber-Anywhere-Portable-Charcoal-Cooker/dp/B07MQW97G4/ref=sr_1_1_sspa?crid=2ZH9G3P3IQ5YB&keywords=bbq+grill&qid=1644038351&sprefix=bbq+grill%2Caps%2C376&sr=8-1-spons&psc=1&spLa=ZW5jcnlwdGVkUXVhbGlmaWVyPUEySUxGMjMxTFM0NTBFJmVuY3J5cHRlZElkPUEwNDg3MDQzMzVVTElFSlNKUUE5ViZlbmNyeXB0ZWRBZElkPUExNlpHSklMOU1HNVpBJndpZGdldE5hbWU9c3BfYXRmJmFjdGlvbj1jbGlja1JlZGlyZWN0JmRvTm90TG9nQ2xpY2s9dHJ1ZQ=='\n",
    "\n",
    "headers = {\"User-Agent\": \"Mozilla/5.0 (Windows NT 10.0; Win64; x64) AppleWebKit/537.36 (KHTML, like Gecko) Chrome/96.0.4664.110 Safari/537.36\"}\n",
    "\n",
    "page = requests.get(URL, headers=headers)\n",
    "\n",
    "soup1 = BeautifulSoup(page.content, \"html.parser\")\n",
    "soup2 = BeautifulSoup(soup1.prettify(),'html.parser')\n",
    "title = soup2.find(id='title_feature_div').get_text()\n",
    "price = soup2.find(id='apex_offerDisplay_desktop').get_text()\n",
    "rate = soup2.find(id='acrPopover').get_text()\n",
    "accureview = soup2.find(id='acrCustomerReviewText').get_text()\n",
    "print(title)\n",
    "print(price)\n",
    "print(rate)\n",
    "print(accureview)\n"
   ]
  },
  {
   "cell_type": "code",
   "execution_count": 89,
   "id": "043c2e4f",
   "metadata": {},
   "outputs": [
    {
     "name": "stdout",
     "output_type": "stream",
     "text": [
      "139.95\n",
      "Weber Go-Anywhere Charcoal Black BBQ - Portable BBQ Grill for Outdoor Cooking, Camping, Backyard, Deck, Beach - Compact, Versatile, Portable Barbeque\n",
      "4.6\n",
      "5 ratings\n"
     ]
    }
   ],
   "source": [
    "price = price.strip()[1:7]\n",
    "title = title.strip()\n",
    "rate = rate.strip()[:3]\n",
    "accureview = accureview.strip()\n",
    "print(price)\n",
    "print(title)\n",
    "print(rate)\n",
    "print(accureview)\n"
   ]
  },
  {
   "cell_type": "code",
   "execution_count": 96,
   "id": "b9bdbf9a",
   "metadata": {},
   "outputs": [
    {
     "name": "stdout",
     "output_type": "stream",
     "text": [
      "2022-02-05\n"
     ]
    }
   ],
   "source": [
    "import datetime\n",
    "\n",
    "date = datetime.date.today()\n",
    "\n",
    "print(date)"
   ]
  },
  {
   "cell_type": "code",
   "execution_count": 97,
   "id": "2ffe7a93",
   "metadata": {},
   "outputs": [],
   "source": [
    "import csv\n",
    "\n",
    "header = ['Title','Price','Rate','Reviews','Date']\n",
    "data = [title,price,rate,accureview,date]\n",
    "\n",
    "#with open('AmazonDataset.csv','w',newline='',encoding='UTF8') as f:\n",
    "    #writer = csv.writer(f)\n",
    "    #writer.writerow(header)\n",
    "    #writer.writerow(data)"
   ]
  },
  {
   "cell_type": "code",
   "execution_count": 105,
   "id": "9b7441a9",
   "metadata": {},
   "outputs": [
    {
     "name": "stdout",
     "output_type": "stream",
     "text": [
      "                                                Title   Price  Rate  \\\n",
      "0   Weber Go-Anywhere Charcoal Black BBQ - Portabl...  139.95   4.6   \n",
      "1   Weber Go-Anywhere Charcoal Black BBQ - Portabl...  139.95   4.6   \n",
      "2   Weber Go-Anywhere Charcoal Black BBQ - Portabl...  139.95   4.6   \n",
      "3   Weber Go-Anywhere Charcoal Black BBQ - Portabl...  139.95   4.6   \n",
      "4   Weber Go-Anywhere Charcoal Black BBQ - Portabl...  139.95   4.6   \n",
      "5   Weber Go-Anywhere Charcoal Black BBQ - Portabl...  139.95   4.6   \n",
      "6   Weber Go-Anywhere Charcoal Black BBQ - Portabl...  139.95   4.6   \n",
      "7   Weber Go-Anywhere Charcoal Black BBQ - Portabl...  139.95   4.6   \n",
      "8   Weber Go-Anywhere Charcoal Black BBQ - Portabl...  139.95   4.6   \n",
      "9   Weber Go-Anywhere Charcoal Black BBQ - Portabl...  139.95   4.6   \n",
      "10  Weber Go-Anywhere Charcoal Black BBQ - Portabl...  139.95   4.6   \n",
      "11  Weber Go-Anywhere Charcoal Black BBQ - Portabl...  139.95   4.6   \n",
      "12  Weber Go-Anywhere Charcoal Black BBQ - Portabl...  139.95   4.6   \n",
      "13  Weber Go-Anywhere Charcoal Black BBQ - Portabl...  139.95   4.6   \n",
      "\n",
      "      Reviews        Date  \n",
      "0   5 ratings  2022-02-05  \n",
      "1   5 ratings  2022-02-05  \n",
      "2   5 ratings  2022-02-05  \n",
      "3   5 ratings  2022-02-05  \n",
      "4   5 ratings  2022-02-05  \n",
      "5   5 ratings  2022-02-05  \n",
      "6   5 ratings  2022-02-05  \n",
      "7   5 ratings  2022-02-05  \n",
      "8   5 ratings  2022-02-05  \n",
      "9   5 ratings  2022-02-05  \n",
      "10  5 ratings  2022-02-05  \n",
      "11  5 ratings  2022-02-05  \n",
      "12  5 ratings  2022-02-05  \n",
      "13  5 ratings  2022-02-05  \n"
     ]
    }
   ],
   "source": [
    "import pandas as pd\n",
    "df = pd.read_csv(r'C:\\Users\\L\\AmazonDataset.csv')\n",
    "print(df)"
   ]
  },
  {
   "cell_type": "code",
   "execution_count": 99,
   "id": "349ddfa9",
   "metadata": {},
   "outputs": [],
   "source": [
    "#append data\n",
    "\n",
    "with open('AmazonDataset.csv','a+',newline='',encoding='UTF8') as f:\n",
    "    writer = csv.writer(f)\n",
    "    writer.writerow(data)"
   ]
  },
  {
   "cell_type": "code",
   "execution_count": 101,
   "id": "d196c44c",
   "metadata": {},
   "outputs": [],
   "source": [
    "def check_price():\n",
    "    URL = 'https://www.amazon.com.au/Weber-Anywhere-Portable-Charcoal-Cooker/dp/B07MQW97G4/ref=sr_1_1_sspa?crid=2ZH9G3P3IQ5YB&keywords=bbq+grill&qid=1644038351&sprefix=bbq+grill%2Caps%2C376&sr=8-1-spons&psc=1&spLa=ZW5jcnlwdGVkUXVhbGlmaWVyPUEySUxGMjMxTFM0NTBFJmVuY3J5cHRlZElkPUEwNDg3MDQzMzVVTElFSlNKUUE5ViZlbmNyeXB0ZWRBZElkPUExNlpHSklMOU1HNVpBJndpZGdldE5hbWU9c3BfYXRmJmFjdGlvbj1jbGlja1JlZGlyZWN0JmRvTm90TG9nQ2xpY2s9dHJ1ZQ=='\n",
    "\n",
    "    headers = {\"User-Agent\": \"Mozilla/5.0 (Windows NT 10.0; Win64; x64) AppleWebKit/537.36 (KHTML, like Gecko) Chrome/96.0.4664.110 Safari/537.36\"}\n",
    "\n",
    "    page = requests.get(URL, headers=headers)\n",
    "\n",
    "    soup1 = BeautifulSoup(page.content, \"html.parser\")\n",
    "    soup2 = BeautifulSoup(soup1.prettify(),'html.parser')\n",
    "    title = soup2.find(id='title_feature_div').get_text()\n",
    "    price = soup2.find(id='apex_offerDisplay_desktop').get_text()\n",
    "    rate = soup2.find(id='acrPopover').get_text()\n",
    "    accureview = soup2.find(id='acrCustomerReviewText').get_text()\n",
    "    price = price.strip()[1:7]\n",
    "    title = title.strip()\n",
    "    rate = rate.strip()[:3]\n",
    "    accureview = accureview.strip()\n",
    "    import datetime\n",
    "\n",
    "    date = datetime.date.today()\n",
    "    \n",
    "    import csv\n",
    "\n",
    "    header = ['Title','Price','Rate','Reviews','Date']\n",
    "    data = [title,price,rate,accureview,date]\n",
    "    with open('AmazonDataset.csv','a+',newline='',encoding='UTF8') as f:\n",
    "        writer = csv.writer(f)\n",
    "        writer.writerow(data)"
   ]
  },
  {
   "cell_type": "code",
   "execution_count": 104,
   "id": "26b550e6",
   "metadata": {},
   "outputs": [
    {
     "ename": "KeyboardInterrupt",
     "evalue": "",
     "output_type": "error",
     "traceback": [
      "\u001b[1;31m---------------------------------------------------------------------------\u001b[0m",
      "\u001b[1;31mKeyboardInterrupt\u001b[0m                         Traceback (most recent call last)",
      "\u001b[1;32m~\\AppData\\Local\\Temp/ipykernel_47072/4212351095.py\u001b[0m in \u001b[0;36m<module>\u001b[1;34m\u001b[0m\n\u001b[0;32m      1\u001b[0m \u001b[1;32mwhile\u001b[0m\u001b[1;33m(\u001b[0m\u001b[1;32mTrue\u001b[0m\u001b[1;33m)\u001b[0m\u001b[1;33m:\u001b[0m\u001b[1;33m\u001b[0m\u001b[1;33m\u001b[0m\u001b[0m\n\u001b[0;32m      2\u001b[0m     \u001b[0mcheck_price\u001b[0m\u001b[1;33m(\u001b[0m\u001b[1;33m)\u001b[0m\u001b[1;33m\u001b[0m\u001b[1;33m\u001b[0m\u001b[0m\n\u001b[1;32m----> 3\u001b[1;33m     \u001b[0mtime\u001b[0m\u001b[1;33m.\u001b[0m\u001b[0msleep\u001b[0m\u001b[1;33m(\u001b[0m\u001b[1;36m5\u001b[0m\u001b[1;33m)\u001b[0m\u001b[1;33m\u001b[0m\u001b[1;33m\u001b[0m\u001b[0m\n\u001b[0m",
      "\u001b[1;31mKeyboardInterrupt\u001b[0m: "
     ]
    }
   ],
   "source": [
    "while(True):\n",
    "    check_price()\n",
    "    time.sleep(86400)"
   ]
  },
  {
   "cell_type": "code",
   "execution_count": null,
   "id": "8077073a",
   "metadata": {},
   "outputs": [],
   "source": []
  }
 ],
 "metadata": {
  "kernelspec": {
   "display_name": "Python 3 (ipykernel)",
   "language": "python",
   "name": "python3"
  },
  "language_info": {
   "codemirror_mode": {
    "name": "ipython",
    "version": 3
   },
   "file_extension": ".py",
   "mimetype": "text/x-python",
   "name": "python",
   "nbconvert_exporter": "python",
   "pygments_lexer": "ipython3",
   "version": "3.9.7"
  }
 },
 "nbformat": 4,
 "nbformat_minor": 5
}
